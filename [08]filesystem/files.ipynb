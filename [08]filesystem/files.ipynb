{
 "cells": [
  {
   "cell_type": "code",
   "execution_count": 48,
   "id": "44fda303",
   "metadata": {},
   "outputs": [
    {
     "name": "stdout",
     "output_type": "stream",
     "text": [
      "{'user_id': 'category', '1840e0b9d4': 'Продукты', '4e4f90fcfb': 'Электроника', 'afea8d72fc': 'Электроника', '373a6055fe': 'Бытовая техника', '9b2ab046f3': 'Электроника', '9f39d307c3': 'Электроника', '44edeffc91': 'Продукты', '704474fa2d': 'Продукты', '1de31be403': 'Бытовая техника', 'b71f36a5e4': 'Продукты', '79843a685a': 'Продукты', 'ff68cee0d6': 'Бытовая техника', 'e8447c40e2': 'Досуг', '98d290be27': 'Электроника', 'fa0079a5a8': 'Досуг', '22d2f03a17': 'Досуг', '3f8e1ccd3f': 'Электроника', '81a9988b83': 'Электроника', '65f44a2eb7': 'Досуг', '5f8fbb0149': 'Бытовая техника', '3ecff691fd': 'Электроника', 'dd0e912251': 'Электроника', '9250593d55': 'Электроника', '37c4e090e4': 'Электроника', '22fa3ea76f': 'Электроника', '73b876b237': 'Электроника', 'f983a69d67': 'Товары для животных', '4ea17212f8': 'Продукты', 'c6de96a5e2': 'Товары для животных', 'd39a1d56c3': 'Бытовая техника', '316ab03143': 'Товары для животных', '78ed39a415': 'Электроника', '19d1e4e036': 'Товары для животных', '9e765c6822': 'Продукты', 'ddd50eaa45': 'Электроника', 'c21b82499e': 'Электроника', 'da79d9ff30': 'Товары для животных', 'eded5c6792': 'Досуг'}\n"
     ]
    }
   ],
   "source": [
    "import re\n",
    "file = open('purchase_log.txt', encoding = 'utf-8')\n",
    "onstring = file.read().split(\"\\n\")[:-1]\n",
    "\n",
    "myitem=[]\n",
    "dic = dict()\n",
    "\n",
    "for item in onstring:\n",
    "    myitem.append(item)\n",
    "    #print(item)\n",
    "    temp = re.split('}|:|,', item)\n",
    "    key = temp[1].strip(' \"')\n",
    "    dic[key]=temp[3].strip(' \"')\n",
    "    #print(key.strip(' \"'), ' = ', dic[key].strip(' \"'))\n",
    "    #print(key, ' = ', dic[key])\n",
    "\n",
    "file.close()\n",
    "print (dic)\n"
   ]
  },
  {
   "cell_type": "code",
   "execution_count": 58,
   "id": "bf67ca26",
   "metadata": {},
   "outputs": [],
   "source": []
  },
  {
   "cell_type": "code",
   "execution_count": 52,
   "id": "3008cc46",
   "metadata": {},
   "outputs": [
    {
     "name": "stdout",
     "output_type": "stream",
     "text": [
      "ok\n"
     ]
    }
   ],
   "source": [
    "\n",
    "\n",
    "with open('results.txt', 'w') as result: # создаем файл для записи\n",
    "    with open('visit_log.csv') as visit_file: # открываем файл для построчного поиска\n",
    "        for line in visit_file:\n",
    "            user_id = line.strip().split(',')[0]\n",
    "            source = line.strip().split(',')[1]\n",
    "            if user_id in dic:\n",
    "                line_out = user_id + ' '+ source + ' '+ dic[user_id]+'\\n'\n",
    "                result.write(line_out)\n",
    "            else:\n",
    "                line_out = 'non ok'\n",
    "\n"
   ]
  }
 ],
 "metadata": {
  "kernelspec": {
   "display_name": "Python 3",
   "language": "python",
   "name": "python3"
  },
  "language_info": {
   "codemirror_mode": {
    "name": "ipython",
    "version": 3
   },
   "file_extension": ".py",
   "mimetype": "text/x-python",
   "name": "python",
   "nbconvert_exporter": "python",
   "pygments_lexer": "ipython3",
   "version": "3.8.8"
  }
 },
 "nbformat": 4,
 "nbformat_minor": 5
}
