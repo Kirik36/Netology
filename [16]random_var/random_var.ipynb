{
 "cells": [
  {
   "cell_type": "markdown",
   "id": "0da1f754",
   "metadata": {},
   "source": [
    "Смоделировать игру против лотерейного автомата типа “777”. Игрок платит 1 руб., после чего выпадает случайное целое число, равномерно распределенное от 0 до 999. При некоторых значениях числа игрок получает выигрыш.\n",
    "\n",
    "777: 200 руб.\n",
    "999: 100 руб.\n",
    "555: 50 руб.\n",
    "333: 15 руб.\n",
    "111: 10 руб.\n",
    "*77: 5 руб.\n",
    "**7: 3 руб.\n",
    "*00: 2 руб.\n",
    "**0: 1 руб.\n",
    "\n",
    "Вопросы:\n",
    "\n",
    "Выгодна ли игра игроку?\n",
    "Сколько в среднем приобретает или теряет игрок за одну игру?\n",
    "\n",
    "К сожалению, текст задания на скриншоте http://prntscr.com/uh35yg уже недоступен."
   ]
  },
  {
   "cell_type": "code",
   "execution_count": 282,
   "id": "900df187",
   "metadata": {},
   "outputs": [
    {
     "name": "stdout",
     "output_type": "stream",
     "text": [
      "Игра не выгодня игроку. Средний выйгрыш с 1 игры = 0.78879\n",
      "То есть игрок теряет  0.21121\n",
      "Стандартное выборочное отклонение =  7.009735494283432\n"
     ]
    }
   ],
   "source": [
    "import numpy as np\n",
    "#import matplotlib.pyplot as plt\n",
    "#import seaborn as sns\n",
    "from statistics import mean, stdev\n",
    "\n",
    "\n",
    "#количество попыток.\n",
    "trials = 100000\n",
    "\n",
    "#результат для анализа\n",
    "result = []\n",
    "\n",
    "def one_try (): #одна игра на автомате (затрачен 1 руб, возвращает выйгрыш)\n",
    "    prom_res = 0\n",
    "    random_score_1 = np.random.randint(0, 10)\n",
    "    random_score_2 = np.random.randint(0, 10)\n",
    "    random_score_3 = np.random.randint(0, 10)\n",
    "    if random_score_3 == 1:\n",
    "        if random_score_2 == 1:\n",
    "            if random_score_1 == 1:\n",
    "                prom_res += 10\n",
    "    elif random_score_3 == 3:\n",
    "        if random_score_2 == 3:\n",
    "            if random_score_1 == 3:\n",
    "                prom_res += 15\n",
    "    elif random_score_3 == 5:\n",
    "        if random_score_2 == 5:\n",
    "            if random_score_1 == 5:\n",
    "                prom_res += 50\n",
    "    elif random_score_3 == 7:\n",
    "        if random_score_2 == 7:\n",
    "            if random_score_1 == 7:\n",
    "                prom_res += 200\n",
    "            else:\n",
    "                prom_res += 5\n",
    "        else:\n",
    "            prom_res += 3\n",
    "    elif random_score_3 == 9:\n",
    "        if random_score_2 == 9:\n",
    "            if random_score_1 == 9:\n",
    "                prom_res += 100\n",
    "    elif random_score_3 == 0:\n",
    "        if random_score_2 == 0:\n",
    "            prom_res += 2\n",
    "        else:\n",
    "            prom_res += 1\n",
    "    return(prom_res)            \n",
    "\n",
    "    \n",
    "# проведем trials экспериментов    \n",
    "for y in range(trials):\n",
    "    result.append(one_try()) #и добавим результат в список\n",
    "\n",
    "if mean(result) < 1:\n",
    "    print('Игра не выгодня игроку. Средний выйгрыш с 1 игры =',mean(result))\n",
    "    print('То есть игрок теряет ', 1-mean(result))\n",
    "else:\n",
    "    print('Игра выгодня игроку. Средний выйгрыш с 1 игры =',mean(result))\n",
    "    print('То есть игрок приобретает ', mean(result)-1)    \n",
    "    \n",
    "print('Стандартное выборочное отклонение = ', stdev(result, mean(result)))\n",
    "\n",
    "\n",
    "#plt.plot(result)\n",
    "#plt.show()\n",
    "\n"
   ]
  },
  {
   "cell_type": "code",
   "execution_count": null,
   "id": "daf4adfc",
   "metadata": {},
   "outputs": [],
   "source": []
  }
 ],
 "metadata": {
  "kernelspec": {
   "display_name": "Python 3",
   "language": "python",
   "name": "python3"
  },
  "language_info": {
   "codemirror_mode": {
    "name": "ipython",
    "version": 3
   },
   "file_extension": ".py",
   "mimetype": "text/x-python",
   "name": "python",
   "nbconvert_exporter": "python",
   "pygments_lexer": "ipython3",
   "version": "3.8.8"
  }
 },
 "nbformat": 4,
 "nbformat_minor": 5
}
