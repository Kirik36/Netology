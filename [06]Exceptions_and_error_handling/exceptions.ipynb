{
 "cells": [
  {
   "cell_type": "markdown",
   "id": "d47d5d87",
   "metadata": {},
   "source": [
    "# Домашнее задание к лекции «Исключения и обработка ошибок»\n",
    "## Задание\n",
    "Преподаватель: Константин Башевой\n",
    "## Задание 1\n",
    "Печатные газеты использовали свой формат дат для каждого выпуска. Для каждой газеты из списка напишите формат указанной даты для перевода в объект datetime:\n",
    "The Moscow Times - Wednesday, October 2, 2002\n",
    "The Guardian - Friday, 11.10.13\n",
    "Daily News - Thursday, 18 August 1977\n",
    "\n",
    "## Задание 2\n",
    "Дан поток дат в формате YYYY-MM-DD, в которых встречаются некорректные значения:\n",
    "stream = [‘2018-04-02’, ‘2018-02-29’, ‘2018-19-02’]\n",
    "\n",
    "Напишите функцию, которая проверяет эти даты на корректность. Т. е. для каждой даты возвращает True (дата корректна) или False (некорректная дата).\n",
    "\n",
    "## Задание 3\n",
    "Напишите функцию date_range, которая возвращает список дат за период от start_date до end_date. Даты должны вводиться в формате YYYY-MM-DD. В случае неверного формата или при start_date > end_date должен возвращаться пустой список.\n",
    "\n",
    "## Задание 4 (бонусное)\n",
    "Ваш коллега прислал код функции:\n",
    "\n",
    "DEFAULT_USER_COUNT = 3\n",
    "\n",
    "def delete_and_return_last_user(region, default_list=[‘A100’, ‘A101’, ‘A102’]):\n",
    "\"\"“\n",
    "Удаляет из списка default_list последнего пользователя\n",
    "и возвращает ID нового последнего пользователя.\n",
    "”\"\"\n",
    "element_to_delete = default_list[-1]\n",
    "default_list.remove(element_to_delete)\n",
    "\n",
    "1\n",
    "return default_list[DEFAULT_USER_COUNT-2]\n",
    "При однократном вызове этой функции все работает корректно:\n",
    "delete_and_return_last_user(1)\n",
    "‘A101’\n",
    "\n",
    "Однако, при повторном вызове получается ошибка IndexError: list index out of range.\n",
    "\n",
    "Задание:\n",
    "\n",
    "Что значит ошибка list index out of range?\n",
    "Почему при первом запуске функция работает корректно, а при втором - нет?\n",
    "Важно! замечание к заданию.\n",
    "\n",
    "**** Для зачета достаточно сделать три задания! (четвертое бонусное)****\n",
    "\n",
    "При копировании с сайта Нетологии Jupyter ноутбук изменяет кавычки ’ на `. Прошу учесть данный факт и обращать внимание.\n",
    "Достаточно просто заменить кавычки."
   ]
  },
  {
   "cell_type": "code",
   "execution_count": 69,
   "id": "cad820a9",
   "metadata": {},
   "outputs": [
    {
     "name": "stdout",
     "output_type": "stream",
     "text": [
      "2002-10-02 00:00:00\n",
      "2013-10-11 00:00:00\n",
      "1977-08-18\n"
     ]
    }
   ],
   "source": [
    "from datetime import datetime\n",
    "magazine1 = 'Wednesday, October 2, 2002'\n",
    "magazine2 = 'Friday, 11.10.13'\n",
    "magazine3 = 'Thursday, 18 August 1977'\n",
    "\n",
    "date_datetime = datetime.strptime(magazine1, '%A, %B %d, %Y')\n",
    "print(date_datetime)\n",
    "\n",
    "date_datetime = datetime.strptime(magazine2, '%A, %d.%m.%y')    \n",
    "print(date_datetime)\n",
    "\n",
    "date_datetime = datetime.strptime(magazine3, '%A, %d %B %Y')    \n",
    "print(date_datetime.strftime('%Y-%m-%d'))\n",
    "\n",
    "    "
   ]
  },
  {
   "cell_type": "code",
   "execution_count": 26,
   "id": "cd32f1c0",
   "metadata": {},
   "outputs": [
    {
     "name": "stdout",
     "output_type": "stream",
     "text": [
      "2018-04-02 00:00:00\n",
      "2018-02-29 Invalid date!\n",
      "2018-19-02 Invalid date!\n"
     ]
    }
   ],
   "source": [
    "stream = ['2018-04-02', '2018-02-29', '2018-19-02'] #YYYY-MM-DD\n",
    "\n",
    "for dt in stream:\n",
    "    try:\n",
    "        date_datetime = datetime.strptime(dt, '%Y-%m-%d')\n",
    "        print(date_datetime)\n",
    "    except ValueError:\n",
    "        print(dt, 'Invalid date!')\n",
    "    \n"
   ]
  },
  {
   "cell_type": "code",
   "execution_count": 66,
   "id": "584c55f9",
   "metadata": {},
   "outputs": [
    {
     "name": "stdout",
     "output_type": "stream",
     "text": [
      "Введите дату начала периода в формате YYYY-MM-DD:2000-01-01\n",
      "Введите дату окончания периода в формате YYYY-MM-DD:2000-01-10\n",
      "2000-01-01\n",
      "2000-01-02\n",
      "2000-01-03\n",
      "2000-01-04\n",
      "2000-01-05\n",
      "2000-01-06\n",
      "2000-01-07\n",
      "2000-01-08\n",
      "2000-01-09\n"
     ]
    }
   ],
   "source": [
    "import sys\n",
    "from datetime import timedelta, date\n",
    "\n",
    "def check_date(date_):\n",
    "    try:\n",
    "        date_datetime = datetime.strptime(date_, '%Y-%m-%d')\n",
    "        return(date_)\n",
    "    except ValueError:\n",
    "        print('Введена некорректная дата')\n",
    "        sys.exit(1)\n",
    "    return\n",
    "\n",
    "def date_range(start_date, end_date):\n",
    "    for n in range(int ((datetime.strptime(end_date, '%Y-%m-%d') - datetime.strptime(start_date, '%Y-%m-%d')).days)):\n",
    "        yield datetime.strptime(start_date, '%Y-%m-%d') + timedelta(n)\n",
    "\n",
    "start_date = check_date(input('Введите дату начала периода в формате YYYY-MM-DD:'))\n",
    "end_date = check_date(input('Введите дату окончания периода в формате YYYY-MM-DD:'))\n",
    "\n",
    "for single_date in date_range(start_date, end_date):\n",
    "    print (single_date.strftime(\"%Y-%m-%d\"))\n",
    "                   "
   ]
  }
 ],
 "metadata": {
  "kernelspec": {
   "display_name": "Python 3",
   "language": "python",
   "name": "python3"
  },
  "language_info": {
   "codemirror_mode": {
    "name": "ipython",
    "version": 3
   },
   "file_extension": ".py",
   "mimetype": "text/x-python",
   "name": "python",
   "nbconvert_exporter": "python",
   "pygments_lexer": "ipython3",
   "version": "3.8.8"
  }
 },
 "nbformat": 4,
 "nbformat_minor": 5
}
