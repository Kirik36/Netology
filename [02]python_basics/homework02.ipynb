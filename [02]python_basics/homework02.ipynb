{
 "cells": [
  {
   "cell_type": "markdown",
   "metadata": {},
   "source": [
    "# Домашнее задание к лекции \"Основы Python\""
   ]
  },
  {
   "cell_type": "markdown",
   "metadata": {},
   "source": [
    "## Задание 1"
   ]
  },
  {
   "cell_type": "markdown",
   "metadata": {},
   "source": [
    "Даны 2 переменных, в которых хранятся строки произвольной длины: *phrase_1* и *phrase_2*.  \n",
    "Напишите код, который проверяет какая из этих строк длиннее."
   ]
  },
  {
   "cell_type": "code",
   "execution_count": 1,
   "metadata": {
    "scrolled": false
   },
   "outputs": [
    {
     "name": "stdout",
     "output_type": "stream",
     "text": [
      "Фраза 1 длиннее фразы 2\n"
     ]
    }
   ],
   "source": [
    "phrase_1 = 'Насколько проще было бы писать программы, если бы не заказчики'\n",
    "phrase_2 = '640Кб должно хватить для любых задач. Билл Гейтс (по легенде)'\n",
    "\n",
    "if (len(phrase_1)) < (len(phrase_2)): \n",
    "    print('Фраза 2 длиннее фразы 1')\n",
    "elif len(phrase_1) > len (phrase_2):\n",
    "    print('Фраза 1 длиннее фразы 2')\n",
    "else:\n",
    "    print ('Фразы равной длинны')\n"
   ]
  },
  {
   "cell_type": "code",
   "execution_count": 2,
   "metadata": {},
   "outputs": [
    {
     "name": "stdout",
     "output_type": "stream",
     "text": [
      "Фраза 2 длиннее фразы 1\n"
     ]
    }
   ],
   "source": [
    "phrase_1 = '640Кб должно хватить для любых задач. Билл Гейтс (по легенде)'\n",
    "phrase_2 = 'Насколько проще было бы писать программы, если бы не заказчики'\n",
    "\n",
    "\n",
    "if (len(phrase_1)) < (len(phrase_2)): \n",
    "    print('Фраза 2 длиннее фразы 1')\n",
    "elif len(phrase_1) > len (phrase_2):\n",
    "    print('Фраза 1 длиннее фразы 2')\n",
    "else:\n",
    "    print ('Фразы равной длинны')\n"
   ]
  },
  {
   "cell_type": "code",
   "execution_count": 3,
   "metadata": {},
   "outputs": [
    {
     "name": "stdout",
     "output_type": "stream",
     "text": [
      "Фразы равной длинны\n"
     ]
    }
   ],
   "source": [
    "phrase_1 = '640Кб должно хватить для любых задач. Билл Гейтс (по легенде)'\n",
    "phrase_2 = '640Кб должно хватить для любых задач. Билл Гейтс (по легенде)'\n",
    "\n",
    "\n",
    "if (len(phrase_1)) < (len(phrase_2)): \n",
    "    print('Фраза 2 длиннее фразы 1')\n",
    "elif len(phrase_1) > len (phrase_2):\n",
    "    print('Фраза 1 длиннее фразы 2')\n",
    "else:\n",
    "    print ('Фразы равной длинны')\n"
   ]
  },
  {
   "cell_type": "markdown",
   "metadata": {},
   "source": [
    "## Задание 2"
   ]
  },
  {
   "cell_type": "markdown",
   "metadata": {},
   "source": [
    "Дана переменная, в которой хранится четырехзначное число (год). Необходимо написать программу, которая выведет, является ли данный год високосным или обычным.\n",
    "\n",
    "Пример работы программы:\n",
    "1.  \n",
    "\n",
    "```\n",
    "year = 2020\n",
    "```\n",
    "Результат:  \n",
    "`Високосный год` \n",
    "\n",
    "2.  \n",
    "\n",
    "```\n",
    "year = 2019\n",
    "```\n",
    "Результат:  \n",
    "`Обычный год` "
   ]
  },
  {
   "cell_type": "code",
   "execution_count": 28,
   "metadata": {
    "scrolled": true
   },
   "outputs": [
    {
     "name": "stdout",
     "output_type": "stream",
     "text": [
      "6789\n",
      "Обычный год\n"
     ]
    }
   ],
   "source": [
    "year = int(input())\n",
    "if (year > 9999) or (year < 1):\n",
    "    print('Введенный год не соответствует условию')\n",
    "elif (year % 4 == 0) and (year % 100 != 0) or (year % 400 == 0):\n",
    "    print('Год високосный')\n",
    "else:\n",
    "    print('Обычный год')"
   ]
  },
  {
   "cell_type": "markdown",
   "metadata": {},
   "source": [
    "## Задание 3"
   ]
  },
  {
   "cell_type": "markdown",
   "metadata": {},
   "source": [
    "Необходимо написать программу, которая будет запрашивать у пользователя месяц и дату рождения и выводить соответствующий знак зодиака.\n",
    "\n",
    "Пример работы программы:  \n",
    "1.  \n",
    "\n",
    "```\n",
    "Введите день:\n",
    "30\n",
    "\n",
    "Введите месяц:\n",
    "Август\n",
    "```\n",
    "Результат:  \n",
    "`Ваш знак зодиака: Дева` \n",
    "\n",
    "2.  \n",
    "\n",
    "```\n",
    "Введите день:\n",
    "29\n",
    "\n",
    "Введите месяц:\n",
    "Октябрь\n",
    "```\n",
    "Результат:  \n",
    "`Ваш знак зодиака: Скорпион` \n"
   ]
  },
  {
   "cell_type": "code",
   "execution_count": 24,
   "metadata": {},
   "outputs": [
    {
     "name": "stdout",
     "output_type": "stream",
     "text": [
      "Введите день:\n",
      "12\n",
      "Введите месяц:\n",
      "12\n",
      "Ваш знак зодиака:\n",
      "стрелец\n"
     ]
    }
   ],
   "source": [
    "print ('Введите день:')\n",
    "day_of_birthday = int(input())\n",
    "while day_of_birthday < 0 or day_of_birthday > 31 :\n",
    "    print ('Ошибка ввода дня. Повторите ввод.')\n",
    "    print ('Введите день:')\n",
    "    day_of_birthday = int(input())\n",
    "    \n",
    "print ('Введите месяц:')\n",
    "month_of_birthday = int(input())\n",
    "while month_of_birthday < 0 or month_of_birthday > 12 :\n",
    "    print ('Ошибка ввода месяца. Повторите ввод.')\n",
    "    print ('Введите месяц:')\n",
    "    month_of_birthday = int(input())\n",
    "\n",
    "#надо еще проверять если введен день 31, а в месяце меньше дней. И февраль.\n",
    "\n",
    "#далее выбор знака зодиака\n",
    "zodiac_sign = 100 * month_of_birthday + day_of_birthday\n",
    "print('Ваш знак зодиака:')\n",
    "\n",
    "if zodiac_sign >= 321 and zodiac_sign <= 420:\n",
    "    print('овен')\n",
    "elif zodiac_sign >= 421 and zodiac_sign <= 521:\n",
    "    print('телец')\n",
    "elif zodiac_sign >=522 and zodiac_sign <=621:\n",
    "    print('близнецы')\n",
    "elif zodiac_sign >=622 and zodiac_sign <=722:\n",
    "    print('рак')\n",
    "elif zodiac_sign >=723 and zodiac_sign <=823:\n",
    "    print('лев')\n",
    "elif zodiac_sign >=824 and zodiac_sign <=923:\n",
    "    print('дева')\n",
    "elif zodiac_sign >=924 and zodiac_sign <=1023:\n",
    "    print('весы')\n",
    "elif zodiac_sign >=1024 and zodiac_sign <=1122:\n",
    "    print('скорпион')    \n",
    "elif zodiac_sign >=1123 and zodiac_sign <=1221:\n",
    "    print('стрелец')\n",
    "elif zodiac_sign >=1222 or zodiac_sign <=120:\n",
    "    print('козерог')    \n",
    "elif zodiac_sign >=121 and zodiac_sign <=219:\n",
    "    print('водлей')\n",
    "elif zodiac_sign >=220 and zodiac_sign <=320:\n",
    "    print('рыбы')\n",
    "else:\n",
    "    print('Шеф, всё сломалось!!!')\n",
    "    "
   ]
  },
  {
   "cell_type": "markdown",
   "metadata": {},
   "source": [
    "## Задание 4"
   ]
  },
  {
   "cell_type": "markdown",
   "metadata": {},
   "source": [
    "Вам нужно написать программу для подбора упаковок по размерам товара. Размеры (ширина, длина, высота) хранятся в переменных (в сантиметрах):\n",
    "\n",
    "Используйте следующие правила:\n",
    "- если каждое из трех измерений менее 15 сантиметров, то выведите на экран \"Коробка №1\";\n",
    "- если хотя бы одно из измерений больше 15 сантиметров, но менее 50 сантиметров, то выводите \"Коробка №2\";\n",
    "- если длина товара больше 2 метров, то выводите \"Упаковка для лыж\";\n",
    "- во всех остальных случаях выводите \"Стандартная коробка №3\".\n",
    "\n",
    "Пример работы программы:  \n",
    "1.  \n",
    "\n",
    "```\n",
    "width = 15\n",
    "length = 50\n",
    "height = 15\n",
    "```\n",
    "Результат:  \n",
    "`Стандартная коробка №3` \n",
    "\n",
    "2.  \n",
    "\n",
    "```\n",
    "width = 45\n",
    "length = 205\n",
    "height = 45\n",
    "```\n",
    "Результат:  \n",
    "`Ищите упаковку для лыж` "
   ]
  },
  {
   "cell_type": "code",
   "execution_count": 33,
   "metadata": {},
   "outputs": [
    {
     "name": "stdout",
     "output_type": "stream",
     "text": [
      "Введите ширину:\n",
      "12\n",
      "Введите длину:\n",
      "12\n",
      "Введите высоту:\n",
      "12\n",
      "Коробка №1\n"
     ]
    }
   ],
   "source": [
    "print ('Введите ширину:')\n",
    "width = int(input())\n",
    "print ('Введите длину:')\n",
    "length = int(input())\n",
    "print ('Введите высоту:')\n",
    "height = int(input())\n",
    "if width <= 0 or length <= 0 or height <= 0 :\n",
    "    print('Введен недопустимый размер')\n",
    "elif width < 15 and length < 15 and height < 15 :\n",
    "    print('Коробка №1')\n",
    "elif width < 50 and length < 50 and height < 50 :\n",
    "    print('Коробка №2')\n",
    "elif length > 200 :\n",
    "    print('Упаковка для лыж')\n",
    "else :\n",
    "    print('Стандартная упаковка №3')\n",
    "    "
   ]
  },
  {
   "cell_type": "markdown",
   "metadata": {},
   "source": [
    "## Задание 5 (необязательное)"
   ]
  },
  {
   "cell_type": "markdown",
   "metadata": {},
   "source": [
    "Дана переменная, в которой хранится шестизначное число (номер проездного билета). Напишите программу, которая будет определять, является ли данный билет \"счастливым\". Билет считается счастливым, если сумма первых трех цифр совпадает с суммой последних трех цифр номера.   \n",
    "\n",
    "Примеры работы программы:  \n",
    "1. ```number = 123456```\n",
    "\n",
    "Результат:  \n",
    "`Несчастливый билет`\n",
    "2. ```number = 123321```\n",
    "\n",
    "Результат:  \n",
    "`Счастливый билет`\n"
   ]
  },
  {
   "cell_type": "code",
   "execution_count": 44,
   "metadata": {},
   "outputs": [
    {
     "name": "stdout",
     "output_type": "stream",
     "text": [
      "Введите номер билета:\n",
      "123321\n",
      "Счастливый билет\n"
     ]
    }
   ],
   "source": [
    "print('Введите номер билета:')\n",
    "ticket_number = int(input())\n",
    "if ticket_number > 999999 or ticket_number <= 0:\n",
    "    print('Номерок некорректный')\n",
    "\n",
    "if (ticket_number // 100000 == ticket_number % 10) and (ticket_number // 10000 % 10 == ticket_number // 10 % 10) and (ticket_number // 1000 % 10 == ticket_number // 100 % 10):\n",
    "    print('Счастливый билет')\n",
    "else:\n",
    "    print('Несчастливый билет')"
   ]
  },
  {
   "cell_type": "markdown",
   "metadata": {},
   "source": [
    "## Задание 6 (необязательное)"
   ]
  },
  {
   "cell_type": "markdown",
   "metadata": {},
   "source": [
    "Напишите программу, которая сможет вычислять площади трех фигур (круг, треугольник и прямоугольник).\n",
    "Тип фигуры запрашиваем через пользовательский ввод, после чего делаем запрос характеристик фигуры:\n",
    "\n",
    "- если пользователь выбрал круг, запрашиваем его радиус,\n",
    "- если треугольник – длины трех его сторон;\n",
    "- если прямоугольник – длины двух его сторон.\n",
    "\n",
    "Пример работы программы:\n",
    "1.  \n",
    "\n",
    "```\n",
    "Введите тип фигуры:\n",
    "Круг\n",
    "\n",
    "Введите радиус круга:\n",
    "10\n",
    "```\n",
    "Результат:  \n",
    "`Площадь круга: 314.16`\n",
    "\n",
    "2.  \n",
    "\n",
    "```\n",
    "Введите тип фигуры:\n",
    "Треугольник\n",
    "\n",
    "Введите длину стороны A:\n",
    "2\n",
    "\n",
    "Введите длину стороны B:\n",
    "2\n",
    "\n",
    "Введите длину стороны C:\n",
    "3\n",
    "```\n",
    "Результат:  \n",
    "`Площадь треугольника: 1.98`"
   ]
  },
  {
   "cell_type": "code",
   "execution_count": 66,
   "metadata": {},
   "outputs": [
    {
     "name": "stdout",
     "output_type": "stream",
     "text": [
      "Выберите номер фигуры: 1 = круг, 2 = треугольник, 3 = прямоугольник\n",
      "Введите номер фигуры:\n",
      "2\n",
      "Введите длину стороны A:\n",
      "2\n",
      "Введите длину стороны B:\n",
      "2\n",
      "Введите длину стороны C:\n",
      "3\n",
      "треугольник\n",
      "Площадь =  1.984313483298443\n"
     ]
    }
   ],
   "source": [
    "import math\n",
    "\n",
    "print('Выберите номер фигуры: 1 = круг, 2 = треугольник, 3 = прямоугольник')\n",
    "print('Введите номер фигуры:')\n",
    "figure = int(input())\n",
    "if figure < 1 or figure > 3 :\n",
    "    print('Вы выбрали некорректно.')\n",
    "elif figure == 1 :\n",
    "    print('Введите радиус круга:')\n",
    "    radius = float(input())\n",
    "    if radius > 0:\n",
    "        area= math.pi*radius**2\n",
    "        print('Площадь = ', area)\n",
    "    else :\n",
    "        print('Введен некорректный радиус')\n",
    "elif figure == 2 :\n",
    "    print('Введите длину стороны A:')\n",
    "    length_A = float(input())\n",
    "    print('Введите длину стороны B:')\n",
    "    length_B = float(input())\n",
    "    print('Введите длину стороны C:')\n",
    "    length_C = float(input())\n",
    "    # а является ли фигура треугольником?\n",
    "    if (length_A + length_B > length_C) and (length_B + length_C > length_A) and (length_A + length_C > length_B) :\n",
    "        half_perimeter = (length_A + length_B + length_C)/2\n",
    "        area = (half_perimeter * (half_perimeter - length_A) * (half_perimeter - length_B) * (half_perimeter - length_C))**0.5\n",
    "        print('Площадь = ', area)\n",
    "    else:\n",
    "        print('С такими сторонами это не треугольник')\n",
    "else :\n",
    "    print('Введите длину стороны A:')\n",
    "    length_A = float(input())\n",
    "    print('Введите длину стороны B:')\n",
    "    length_B = float(input())\n",
    "    if length_A >= 0 and length_B >= 0 :\n",
    "        area = length_A * length_B\n",
    "        print('Площадь = ', area)        \n",
    "\n",
    "\n"
   ]
  },
  {
   "cell_type": "markdown",
   "metadata": {},
   "source": [
    "#### ПРИМЕЧАНИЕ\n",
    "Домашнее задание сдается ссылкой на репозиторий [GitHub](https://github.com/).\n",
    "Не сможем проверить или помочь, если вы пришлете:\n",
    "- файлы;\n",
    "- архивы;\n",
    "- скриншоты кода.\n",
    "\n",
    "Все обсуждения и консультации по выполнению домашнего задания ведутся только на соответствующем канале в slack.\n",
    "\n",
    "##### Как правильно задавать вопросы аспирантам, преподавателям и коллегам\n",
    "Прежде чем задать вопрос, попробуйте найти ответ в интернете. Навык самостоятельного поиска информации — один из важнейших. Каждый практикующий специалист любого уровня делает это ежедневно.\n",
    "\n",
    "Сформулируйте вопрос по алгоритму:  \n",
    "1) Что я делаю?  \n",
    "2) Какого результата я ожидаю?  \n",
    "3) Как фактический результат отличается от ожидаемого?  \n",
    "4) Что я уже попробовал сделать, чтобы исправить проблему?  \n",
    "\n",
    "По возможности прикрепите к вопросу скриншоты либо ссылки на код. Не выкладывайте все решение, оставляйте только проблемный и воспроизводимый участок кода."
   ]
  }
 ],
 "metadata": {
  "kernelspec": {
   "display_name": "Python 3",
   "language": "python",
   "name": "python3"
  },
  "language_info": {
   "codemirror_mode": {
    "name": "ipython",
    "version": 3
   },
   "file_extension": ".py",
   "mimetype": "text/x-python",
   "name": "python",
   "nbconvert_exporter": "python",
   "pygments_lexer": "ipython3",
   "version": "3.8.8"
  }
 },
 "nbformat": 4,
 "nbformat_minor": 2
}
