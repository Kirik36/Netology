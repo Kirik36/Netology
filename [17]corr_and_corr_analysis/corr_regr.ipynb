{
 "cells": [
  {
   "cell_type": "markdown",
   "id": "d989e31e",
   "metadata": {},
   "source": [
    "# Домашнее задание к лекции «Корреляция и корреляционный анализ»\n",
    "\n",
    "Возьмите датасет Mortality and Water Hardness**\n",
    "www.kaggle.com...r-hardness\n",
    "\n",
    "В этом датасете содержатся данные по средней годовой смертности на\n",
    "100000 населения и концентрации кальция в питьевой воде для 61\n",
    "большого города в Англии и Уэльсе. Города дополнительно поделены на\n",
    "северные и южные.\n",
    "\n",
    "## Задание 1.\n",
    "Ответить на вопрос: есть ли связь между жёсткостью воды и средней годовой смертностью?\n",
    "\n",
    "* Построить точечный график\n",
    "* Рассчитать коэффициенты корреляции Пирсона и Спирмена\n",
    "* Построить модель линейной регрессии\n",
    "* Рассчитать коэффициент детерминации\n",
    "* Вывести график остатков\n",
    "\n",
    "## Задание 2.\n",
    "Ответить на вопрос: сохраняется ли аналогичная зависимость для северных и южных городов по отдельности?\n",
    "\n",
    "* Разделить данные на 2 группы\n",
    "* Повторить аналогичные шаги из пункта 1 для каждой группы по отдельности"
   ]
  },
  {
   "cell_type": "code",
   "execution_count": 2,
   "id": "0eae5cdd",
   "metadata": {},
   "outputs": [],
   "source": [
    "import pandas as pd\n",
    "import matplotlib.pyplot as plt\n",
    "import seaborn as sns\n",
    "import numpy as np\n",
    "from sklearn.linear_model import LinearRegression\n",
    "from scipy.stats.stats import pearsonr\n",
    "\n",
    "data = pd.read_csv('water.csv')"
   ]
  },
  {
   "cell_type": "code",
   "execution_count": 3,
   "id": "cd839a60",
   "metadata": {},
   "outputs": [
    {
     "data": {
      "text/html": [
       "<div>\n",
       "<style scoped>\n",
       "    .dataframe tbody tr th:only-of-type {\n",
       "        vertical-align: middle;\n",
       "    }\n",
       "\n",
       "    .dataframe tbody tr th {\n",
       "        vertical-align: top;\n",
       "    }\n",
       "\n",
       "    .dataframe thead th {\n",
       "        text-align: right;\n",
       "    }\n",
       "</style>\n",
       "<table border=\"1\" class=\"dataframe\">\n",
       "  <thead>\n",
       "    <tr style=\"text-align: right;\">\n",
       "      <th></th>\n",
       "      <th>Unnamed: 0</th>\n",
       "      <th>location</th>\n",
       "      <th>town</th>\n",
       "      <th>mortality</th>\n",
       "      <th>hardness</th>\n",
       "    </tr>\n",
       "  </thead>\n",
       "  <tbody>\n",
       "    <tr>\n",
       "      <th>0</th>\n",
       "      <td>1</td>\n",
       "      <td>South</td>\n",
       "      <td>Bath</td>\n",
       "      <td>1247</td>\n",
       "      <td>105</td>\n",
       "    </tr>\n",
       "    <tr>\n",
       "      <th>1</th>\n",
       "      <td>2</td>\n",
       "      <td>North</td>\n",
       "      <td>Birkenhead</td>\n",
       "      <td>1668</td>\n",
       "      <td>17</td>\n",
       "    </tr>\n",
       "    <tr>\n",
       "      <th>2</th>\n",
       "      <td>3</td>\n",
       "      <td>South</td>\n",
       "      <td>Birmingham</td>\n",
       "      <td>1466</td>\n",
       "      <td>5</td>\n",
       "    </tr>\n",
       "    <tr>\n",
       "      <th>3</th>\n",
       "      <td>4</td>\n",
       "      <td>North</td>\n",
       "      <td>Blackburn</td>\n",
       "      <td>1800</td>\n",
       "      <td>14</td>\n",
       "    </tr>\n",
       "    <tr>\n",
       "      <th>4</th>\n",
       "      <td>5</td>\n",
       "      <td>North</td>\n",
       "      <td>Blackpool</td>\n",
       "      <td>1609</td>\n",
       "      <td>18</td>\n",
       "    </tr>\n",
       "    <tr>\n",
       "      <th>...</th>\n",
       "      <td>...</td>\n",
       "      <td>...</td>\n",
       "      <td>...</td>\n",
       "      <td>...</td>\n",
       "      <td>...</td>\n",
       "    </tr>\n",
       "    <tr>\n",
       "      <th>56</th>\n",
       "      <td>57</td>\n",
       "      <td>South</td>\n",
       "      <td>Walsall</td>\n",
       "      <td>1527</td>\n",
       "      <td>60</td>\n",
       "    </tr>\n",
       "    <tr>\n",
       "      <th>57</th>\n",
       "      <td>58</td>\n",
       "      <td>South</td>\n",
       "      <td>West Bromwich</td>\n",
       "      <td>1627</td>\n",
       "      <td>53</td>\n",
       "    </tr>\n",
       "    <tr>\n",
       "      <th>58</th>\n",
       "      <td>59</td>\n",
       "      <td>South</td>\n",
       "      <td>West Ham</td>\n",
       "      <td>1486</td>\n",
       "      <td>122</td>\n",
       "    </tr>\n",
       "    <tr>\n",
       "      <th>59</th>\n",
       "      <td>60</td>\n",
       "      <td>South</td>\n",
       "      <td>Wolverhampton</td>\n",
       "      <td>1485</td>\n",
       "      <td>81</td>\n",
       "    </tr>\n",
       "    <tr>\n",
       "      <th>60</th>\n",
       "      <td>61</td>\n",
       "      <td>North</td>\n",
       "      <td>York</td>\n",
       "      <td>1378</td>\n",
       "      <td>71</td>\n",
       "    </tr>\n",
       "  </tbody>\n",
       "</table>\n",
       "<p>61 rows × 5 columns</p>\n",
       "</div>"
      ],
      "text/plain": [
       "    Unnamed: 0 location           town  mortality  hardness\n",
       "0            1    South           Bath       1247       105\n",
       "1            2    North     Birkenhead       1668        17\n",
       "2            3    South     Birmingham       1466         5\n",
       "3            4    North      Blackburn       1800        14\n",
       "4            5    North      Blackpool       1609        18\n",
       "..         ...      ...            ...        ...       ...\n",
       "56          57    South        Walsall       1527        60\n",
       "57          58    South  West Bromwich       1627        53\n",
       "58          59    South       West Ham       1486       122\n",
       "59          60    South  Wolverhampton       1485        81\n",
       "60          61    North           York       1378        71\n",
       "\n",
       "[61 rows x 5 columns]"
      ]
     },
     "execution_count": 3,
     "metadata": {},
     "output_type": "execute_result"
    }
   ],
   "source": [
    "data"
   ]
  },
  {
   "cell_type": "code",
   "execution_count": 4,
   "id": "cf3c6c0c",
   "metadata": {},
   "outputs": [
    {
     "data": {
      "image/png": "[encoded data removed]",
      "text/plain": [
       "<Figure size 1080x288 with 2 Axes>"
      ]
     },
     "metadata": {
      "needs_background": "light"
     },
     "output_type": "display_data"
    }
   ],
   "source": [
    "fig = plt.figure(figsize=(15,4))\n",
    "\n",
    "dot_graph_1 = fig.add_subplot(211)\n",
    "plt.title('Mortality')\n",
    "\n",
    "dot_graph_2 = fig.add_subplot(212)\n",
    "plt.title('Hardness')\n",
    "\n",
    "dot_graph_1 = dot_graph_1.scatter(data['Unnamed: 0'], data['mortality'])  #generate line graph\n",
    "dot_graph_2 = dot_graph_2.scatter(data['Unnamed: 0'], data['hardness'])\n",
    "plt.subplots_adjust(hspace = 0.2, wspace=1, top=2, bottom=0.2)\n",
    "\n",
    "plt.show()"
   ]
  },
  {
   "cell_type": "code",
   "execution_count": 5,
   "id": "559470a0",
   "metadata": {},
   "outputs": [
    {
     "data": {
      "text/plain": [
       "(-0.6548486232042465, 1.033133926034952e-08)"
      ]
     },
     "execution_count": 5,
     "metadata": {},
     "output_type": "execute_result"
    }
   ],
   "source": [
    "pearsonr(data['mortality'],data['hardness'])"
   ]
  },
  {
   "cell_type": "code",
   "execution_count": 6,
   "id": "207260bf",
   "metadata": {},
   "outputs": [
    {
     "data": {
      "text/plain": [
       "SpearmanrResult(correlation=-0.6316646189166502, pvalue=4.79546153722838e-08)"
      ]
     },
     "execution_count": 6,
     "metadata": {},
     "output_type": "execute_result"
    }
   ],
   "source": [
    "from scipy.stats import spearmanr\n",
    "\n",
    "spearmanr(data['mortality'],data['hardness'])"
   ]
  },
  {
   "cell_type": "code",
   "execution_count": 7,
   "id": "20945490",
   "metadata": {},
   "outputs": [
    {
     "data": {
      "text/html": [
       "<div>\n",
       "<style scoped>\n",
       "    .dataframe tbody tr th:only-of-type {\n",
       "        vertical-align: middle;\n",
       "    }\n",
       "\n",
       "    .dataframe tbody tr th {\n",
       "        vertical-align: top;\n",
       "    }\n",
       "\n",
       "    .dataframe thead th {\n",
       "        text-align: right;\n",
       "    }\n",
       "</style>\n",
       "<table border=\"1\" class=\"dataframe\">\n",
       "  <thead>\n",
       "    <tr style=\"text-align: right;\">\n",
       "      <th></th>\n",
       "      <th>mortality</th>\n",
       "      <th>hardness</th>\n",
       "    </tr>\n",
       "  </thead>\n",
       "  <tbody>\n",
       "    <tr>\n",
       "      <th>mortality</th>\n",
       "      <td>1.000000</td>\n",
       "      <td>-0.631665</td>\n",
       "    </tr>\n",
       "    <tr>\n",
       "      <th>hardness</th>\n",
       "      <td>-0.631665</td>\n",
       "      <td>1.000000</td>\n",
       "    </tr>\n",
       "  </tbody>\n",
       "</table>\n",
       "</div>"
      ],
      "text/plain": [
       "           mortality  hardness\n",
       "mortality   1.000000 -0.631665\n",
       "hardness   -0.631665  1.000000"
      ]
     },
     "execution_count": 7,
     "metadata": {},
     "output_type": "execute_result"
    }
   ],
   "source": [
    "data[['mortality', 'hardness']].corr(method='spearman')"
   ]
  },
  {
   "cell_type": "code",
   "execution_count": 15,
   "id": "5bb12331",
   "metadata": {},
   "outputs": [],
   "source": [
    "train_test_split?"
   ]
  },
  {
   "cell_type": "code",
   "execution_count": 29,
   "id": "a94d4434",
   "metadata": {},
   "outputs": [],
   "source": [
    "from sklearn.model_selection import train_test_split\n",
    "\n",
    "X = data[['mortality']]\n",
    "y = data['hardness']\n",
    "\n",
    "X_train, X_test, y_train, y_test = train_test_split(X, y, test_size=0.25, random_state=42)\n"
   ]
  },
  {
   "cell_type": "code",
   "execution_count": 30,
   "id": "0e46dc3b",
   "metadata": {},
   "outputs": [
    {
     "data": {
      "text/plain": [
       "LinearRegression()"
      ]
     },
     "execution_count": 30,
     "metadata": {},
     "output_type": "execute_result"
    }
   ],
   "source": [
    "model = LinearRegression()\n",
    "model.fit(X_train, y_train)"
   ]
  },
  {
   "cell_type": "code",
   "execution_count": 31,
   "id": "e40e6f0c",
   "metadata": {},
   "outputs": [
    {
     "data": {
      "text/plain": [
       "array([-0.13055019])"
      ]
     },
     "execution_count": 31,
     "metadata": {},
     "output_type": "execute_result"
    }
   ],
   "source": [
    "model.coef_"
   ]
  },
  {
   "cell_type": "code",
   "execution_count": 32,
   "id": "9340cccd",
   "metadata": {},
   "outputs": [
    {
     "data": {
      "text/plain": [
       "245.26119532596613"
      ]
     },
     "execution_count": 32,
     "metadata": {},
     "output_type": "execute_result"
    }
   ],
   "source": [
    "model.intercept_"
   ]
  },
  {
   "cell_type": "code",
   "execution_count": 33,
   "id": "814c3103",
   "metadata": {},
   "outputs": [
    {
     "data": {
      "text/plain": [
       "array([82.46510589, 41.86399617, 50.08865827, 23.06476852, 74.63209437,\n",
       "       33.11713331, 80.89850358, 38.0780406 , 46.95545366, 23.84806967,\n",
       "       74.37099398, 51.39416019, 42.25564675, 10.2708497 , 22.15091718,\n",
       "       58.83552113])"
      ]
     },
     "execution_count": 33,
     "metadata": {},
     "output_type": "execute_result"
    }
   ],
   "source": [
    "y_pred = model.predict(X_test)\n",
    "y_pred"
   ]
  },
  {
   "cell_type": "code",
   "execution_count": 34,
   "id": "d71d26c1",
   "metadata": {},
   "outputs": [
    {
     "data": {
      "text/plain": [
       "[<matplotlib.lines.Line2D at 0x2709f33dfa0>]"
      ]
     },
     "execution_count": 34,
     "metadata": {},
     "output_type": "execute_result"
    },
    {
     "data": {
      "image/png": "[encoded data removed]",
      "text/plain": [
       "<Figure size 432x288 with 1 Axes>"
      ]
     },
     "metadata": {
      "needs_background": "light"
     },
     "output_type": "display_data"
    }
   ],
   "source": [
    "plt.scatter(X_test, y_test)\n",
    "plt.plot(X_test, y_pred, c='r')"
   ]
  },
  {
   "cell_type": "code",
   "execution_count": 35,
   "id": "c2bbad15",
   "metadata": {},
   "outputs": [
    {
     "name": "stdout",
     "output_type": "stream",
     "text": [
      "                            OLS Regression Results                            \n",
      "==============================================================================\n",
      "Dep. Variable:               hardness   R-squared:                       0.433\n",
      "Model:                            OLS   Adj. R-squared:                  0.420\n",
      "Method:                 Least Squares   F-statistic:                     32.82\n",
      "Date:                Mon, 30 Aug 2021   Prob (F-statistic):           9.05e-07\n",
      "Time:                        14:18:50   Log-Likelihood:                -215.09\n",
      "No. Observations:                  45   AIC:                             434.2\n",
      "Df Residuals:                      43   BIC:                             437.8\n",
      "Df Model:                           1                                         \n",
      "Covariance Type:            nonrobust                                         \n",
      "==============================================================================\n",
      "                 coef    std err          t      P>|t|      [0.025      0.975]\n",
      "------------------------------------------------------------------------------\n",
      "const        245.2612     35.062      6.995      0.000     174.553     315.970\n",
      "mortality     -0.1306      0.023     -5.729      0.000      -0.177      -0.085\n",
      "==============================================================================\n",
      "Omnibus:                        0.344   Durbin-Watson:                   2.378\n",
      "Prob(Omnibus):                  0.842   Jarque-Bera (JB):                0.498\n",
      "Skew:                           0.167   Prob(JB):                        0.780\n",
      "Kurtosis:                       2.607   Cond. No.                     1.23e+04\n",
      "==============================================================================\n",
      "\n",
      "Notes:\n",
      "[1] Standard Errors assume that the covariance matrix of the errors is correctly specified.\n",
      "[2] The condition number is large, 1.23e+04. This might indicate that there are\n",
      "strong multicollinearity or other numerical problems.\n"
     ]
    }
   ],
   "source": [
    "import statsmodels.api as sm\n",
    "X_const = sm.add_constant(X_train)\n",
    "X_const.shape\n",
    "\n",
    "model = sm.OLS(y_train, X_const)\n",
    "results = model.fit()\n",
    "print(results.summary())"
   ]
  },
  {
   "cell_type": "code",
   "execution_count": 36,
   "id": "11417ff8",
   "metadata": {},
   "outputs": [
    {
     "name": "stdout",
     "output_type": "stream",
     "text": [
      "Parameters:  const        245.261195\n",
      "mortality     -0.130550\n",
      "dtype: float64\n",
      "R2:  0.432874147740124\n"
     ]
    }
   ],
   "source": [
    "print('Parameters: ', results.params)\n",
    "print('R2: ', results.rsquared)"
   ]
  },
  {
   "cell_type": "code",
   "execution_count": 38,
   "id": "3e4cd501",
   "metadata": {},
   "outputs": [],
   "source": [
    "wls_prediction_std?"
   ]
  },
  {
   "cell_type": "code",
   "execution_count": 37,
   "id": "fb93c06d",
   "metadata": {},
   "outputs": [
    {
     "data": {
      "image/png": "[encoded data removed]",
      "text/plain": [
       "<Figure size 576x432 with 1 Axes>"
      ]
     },
     "metadata": {
      "needs_background": "light"
     },
     "output_type": "display_data"
    }
   ],
   "source": [
    "from statsmodels.sandbox.regression.predstd import wls_prediction_std\n",
    "\n",
    "prstd, iv_l, iv_u = wls_prediction_std(results) \n",
    "fig, ax = plt.subplots(figsize=(8,6))\n",
    "\n",
    "ax.plot(X_const.iloc[:, 1], y_train, 'o', label=\"data\")\n",
    "ax.plot(X_const.iloc[:, 1], results.fittedvalues, 'r--.', label=\"OLS\")\n",
    "ax.plot(X_const.iloc[:, 1], iv_u, 'g--')\n",
    "ax.plot(X_const.iloc[:, 1], iv_l, 'g--')\n",
    "ax.legend(loc='best');"
   ]
  },
  {
   "cell_type": "code",
   "execution_count": 27,
   "id": "ea86a4ac",
   "metadata": {},
   "outputs": [
    {
     "data": {
      "image/png": "[encoded data removed]",
      "text/plain": [
       "<Figure size 432x288 with 1 Axes>"
      ]
     },
     "metadata": {
      "needs_background": "light"
     },
     "output_type": "display_data"
    }
   ],
   "source": [
    "plt.scatter(X_const.iloc[:, 1], results.resid)\n",
    "plt.show()"
   ]
  },
  {
   "cell_type": "code",
   "execution_count": 28,
   "id": "7e2c5c95",
   "metadata": {
    "scrolled": true
   },
   "outputs": [
    {
     "data": {
      "text/plain": [
       "(array([ 3.,  3., 10.,  5.,  6.,  2.,  6.,  4.,  3.,  3.]),\n",
       " array([-46.51149498, -36.53875141, -26.56600784, -16.59326427,\n",
       "         -6.6205207 ,   3.35222287,  13.32496644,  23.29771001,\n",
       "         33.27045358,  43.24319715,  53.21594072]),\n",
       " <BarContainer object of 10 artists>)"
      ]
     },
     "execution_count": 28,
     "metadata": {},
     "output_type": "execute_result"
    },
    {
     "data": {
      "image/png": "[encoded data removed]",
      "text/plain": [
       "<Figure size 432x288 with 1 Axes>"
      ]
     },
     "metadata": {
      "needs_background": "light"
     },
     "output_type": "display_data"
    }
   ],
   "source": [
    "plt.hist(results.resid)"
   ]
  },
  {
   "cell_type": "markdown",
   "id": "c5967804",
   "metadata": {},
   "source": [
    " Есть ли связь между жёсткостью воды и средней годовой смертностью?\n",
    " \n",
    " Есть не сильная отрицательная корреляция между жесткостью воды и смертностью.\n",
    " \n",
    " "
   ]
  },
  {
   "cell_type": "markdown",
   "id": "71bf6e14",
   "metadata": {},
   "source": [
    "## Задание 2"
   ]
  },
  {
   "cell_type": "code",
   "execution_count": 47,
   "id": "058aab2e",
   "metadata": {},
   "outputs": [
    {
     "data": {
      "text/html": [
       "<div>\n",
       "<style scoped>\n",
       "    .dataframe tbody tr th:only-of-type {\n",
       "        vertical-align: middle;\n",
       "    }\n",
       "\n",
       "    .dataframe tbody tr th {\n",
       "        vertical-align: top;\n",
       "    }\n",
       "\n",
       "    .dataframe thead th {\n",
       "        text-align: right;\n",
       "    }\n",
       "</style>\n",
       "<table border=\"1\" class=\"dataframe\">\n",
       "  <thead>\n",
       "    <tr style=\"text-align: right;\">\n",
       "      <th></th>\n",
       "      <th>Unnamed: 0</th>\n",
       "      <th>location</th>\n",
       "      <th>town</th>\n",
       "      <th>mortality</th>\n",
       "      <th>hardness</th>\n",
       "    </tr>\n",
       "  </thead>\n",
       "  <tbody>\n",
       "    <tr>\n",
       "      <th>0</th>\n",
       "      <td>1</td>\n",
       "      <td>South</td>\n",
       "      <td>Bath</td>\n",
       "      <td>1247</td>\n",
       "      <td>105</td>\n",
       "    </tr>\n",
       "    <tr>\n",
       "      <th>2</th>\n",
       "      <td>3</td>\n",
       "      <td>South</td>\n",
       "      <td>Birmingham</td>\n",
       "      <td>1466</td>\n",
       "      <td>5</td>\n",
       "    </tr>\n",
       "    <tr>\n",
       "      <th>7</th>\n",
       "      <td>8</td>\n",
       "      <td>South</td>\n",
       "      <td>Bournemouth</td>\n",
       "      <td>1299</td>\n",
       "      <td>78</td>\n",
       "    </tr>\n",
       "    <tr>\n",
       "      <th>9</th>\n",
       "      <td>10</td>\n",
       "      <td>South</td>\n",
       "      <td>Brighton</td>\n",
       "      <td>1359</td>\n",
       "      <td>84</td>\n",
       "    </tr>\n",
       "    <tr>\n",
       "      <th>10</th>\n",
       "      <td>11</td>\n",
       "      <td>South</td>\n",
       "      <td>Bristol</td>\n",
       "      <td>1392</td>\n",
       "      <td>73</td>\n",
       "    </tr>\n",
       "    <tr>\n",
       "      <th>12</th>\n",
       "      <td>13</td>\n",
       "      <td>South</td>\n",
       "      <td>Cardiff</td>\n",
       "      <td>1519</td>\n",
       "      <td>21</td>\n",
       "    </tr>\n",
       "    <tr>\n",
       "      <th>13</th>\n",
       "      <td>14</td>\n",
       "      <td>South</td>\n",
       "      <td>Coventry</td>\n",
       "      <td>1307</td>\n",
       "      <td>78</td>\n",
       "    </tr>\n",
       "    <tr>\n",
       "      <th>14</th>\n",
       "      <td>15</td>\n",
       "      <td>South</td>\n",
       "      <td>Croydon</td>\n",
       "      <td>1254</td>\n",
       "      <td>96</td>\n",
       "    </tr>\n",
       "    <tr>\n",
       "      <th>18</th>\n",
       "      <td>19</td>\n",
       "      <td>South</td>\n",
       "      <td>East Ham</td>\n",
       "      <td>1318</td>\n",
       "      <td>122</td>\n",
       "    </tr>\n",
       "    <tr>\n",
       "      <th>19</th>\n",
       "      <td>20</td>\n",
       "      <td>South</td>\n",
       "      <td>Exeter</td>\n",
       "      <td>1260</td>\n",
       "      <td>21</td>\n",
       "    </tr>\n",
       "  </tbody>\n",
       "</table>\n",
       "</div>"
      ],
      "text/plain": [
       "    Unnamed: 0 location         town  mortality  hardness\n",
       "0            1    South         Bath       1247       105\n",
       "2            3    South   Birmingham       1466         5\n",
       "7            8    South  Bournemouth       1299        78\n",
       "9           10    South     Brighton       1359        84\n",
       "10          11    South      Bristol       1392        73\n",
       "12          13    South      Cardiff       1519        21\n",
       "13          14    South     Coventry       1307        78\n",
       "14          15    South      Croydon       1254        96\n",
       "18          19    South     East Ham       1318       122\n",
       "19          20    South       Exeter       1260        21"
      ]
     },
     "execution_count": 47,
     "metadata": {},
     "output_type": "execute_result"
    }
   ],
   "source": [
    "#разбили на 2 датасета\n",
    "south_towns = data[data['location'] == 'South']\n",
    "\n",
    "north_towns = data[data['location'] == 'North']\n",
    "\n",
    "south_towns.head(10)"
   ]
  },
  {
   "cell_type": "code",
   "execution_count": 62,
   "id": "62134eab",
   "metadata": {},
   "outputs": [
    {
     "data": {
      "image/png": "[encoded data removed]",
      "text/plain": [
       "<Figure size 1440x216 with 4 Axes>"
      ]
     },
     "metadata": {
      "needs_background": "light"
     },
     "output_type": "display_data"
    }
   ],
   "source": [
    "fig = plt.figure(figsize=(20,3))\n",
    "\n",
    "dot_graph_1 = fig.add_subplot(221)\n",
    "plt.title('Mortality South Towns')\n",
    "\n",
    "dot_graph_2 = fig.add_subplot(222)\n",
    "plt.title('Mortality North Towns')\n",
    "\n",
    "dot_graph_3 = fig.add_subplot(223)\n",
    "plt.title('Hardness South Towns')\n",
    "\n",
    "dot_graph_4 = fig.add_subplot(224)\n",
    "plt.title('Hardness North Towns')\n",
    "\n",
    "dot_graph_1 = dot_graph_1.scatter(south_towns['Unnamed: 0'], south_towns['mortality'])\n",
    "dot_graph_2 = dot_graph_2.scatter(north_towns['Unnamed: 0'], north_towns['mortality'])\n",
    "dot_graph_3 = dot_graph_3.scatter(south_towns['Unnamed: 0'], south_towns['hardness'])\n",
    "dot_graph_4 = dot_graph_4.scatter(north_towns['Unnamed: 0'], north_towns['hardness'])\n",
    "plt.subplots_adjust(hspace = 0.2, wspace=0.2, top=2, bottom=0.2)\n",
    "\n",
    "plt.show()"
   ]
  },
  {
   "cell_type": "code",
   "execution_count": 63,
   "id": "3dd86d52",
   "metadata": {},
   "outputs": [
    {
     "data": {
      "text/plain": [
       "(-0.6021532715484158, 0.0011346743048161923)"
      ]
     },
     "execution_count": 63,
     "metadata": {},
     "output_type": "execute_result"
    }
   ],
   "source": [
    "pearsonr(south_towns['mortality'],south_towns['hardness'])"
   ]
  },
  {
   "cell_type": "code",
   "execution_count": 64,
   "id": "3a13551f",
   "metadata": {},
   "outputs": [
    {
     "data": {
      "text/plain": [
       "(-0.36859783832887183, 0.029344659047110602)"
      ]
     },
     "execution_count": 64,
     "metadata": {},
     "output_type": "execute_result"
    }
   ],
   "source": [
    "pearsonr(north_towns['mortality'],north_towns['hardness'])"
   ]
  },
  {
   "cell_type": "code",
   "execution_count": 65,
   "id": "0bd7065e",
   "metadata": {},
   "outputs": [
    {
     "data": {
      "text/plain": [
       "SpearmanrResult(correlation=-0.5957229185013566, pvalue=0.0013223867410179474)"
      ]
     },
     "execution_count": 65,
     "metadata": {},
     "output_type": "execute_result"
    }
   ],
   "source": [
    "spearmanr(south_towns['mortality'],south_towns['hardness'])"
   ]
  },
  {
   "cell_type": "code",
   "execution_count": 66,
   "id": "626aa0bc",
   "metadata": {},
   "outputs": [
    {
     "data": {
      "text/plain": [
       "SpearmanrResult(correlation=-0.4042078956511175, pvalue=0.01602900609606112)"
      ]
     },
     "execution_count": 66,
     "metadata": {},
     "output_type": "execute_result"
    }
   ],
   "source": [
    "spearmanr(north_towns['mortality'],north_towns['hardness'])"
   ]
  },
  {
   "cell_type": "code",
   "execution_count": 68,
   "id": "a872f554",
   "metadata": {},
   "outputs": [],
   "source": [
    "X_south = south_towns[['mortality']]\n",
    "y_south = south_towns['hardness']\n",
    "\n",
    "X_south_train, X_south_test, y_south_train, y_south_test = train_test_split(X_south, y_south, test_size=0.25, random_state=42)\n",
    "\n",
    "X_north = north_towns[['mortality']]\n",
    "y_north = north_towns['hardness']\n",
    "\n",
    "X_north_train, X_north_test, y_north_train, y_north_test = train_test_split(X_north, y_north, test_size=0.25, random_state=42)\n",
    "\n"
   ]
  },
  {
   "cell_type": "code",
   "execution_count": 77,
   "id": "a1f4b732",
   "metadata": {},
   "outputs": [
    {
     "data": {
      "text/plain": [
       "LinearRegression()"
      ]
     },
     "execution_count": 77,
     "metadata": {},
     "output_type": "execute_result"
    }
   ],
   "source": [
    "model_south = LinearRegression()\n",
    "model_south.fit(X_south_train, y_south_train)\n",
    "\n"
   ]
  },
  {
   "cell_type": "code",
   "execution_count": 78,
   "id": "542d083e",
   "metadata": {},
   "outputs": [
    {
     "data": {
      "text/plain": [
       "LinearRegression()"
      ]
     },
     "execution_count": 78,
     "metadata": {},
     "output_type": "execute_result"
    }
   ],
   "source": [
    "model_north = LinearRegression()\n",
    "model_north.fit(X_north_train, y_north_train)"
   ]
  },
  {
   "cell_type": "code",
   "execution_count": 83,
   "id": "544115b4",
   "metadata": {},
   "outputs": [
    {
     "name": "stdout",
     "output_type": "stream",
     "text": [
      "[-0.19144129]\n",
      "335.5684282411057\n",
      "[-0.09308216]\n",
      "183.5328689819372\n"
     ]
    }
   ],
   "source": [
    "print(model_south.coef_)\n",
    "print(model_south.intercept_)\n",
    "print(model_north.coef_)\n",
    "print(model_north.intercept_)"
   ]
  },
  {
   "cell_type": "code",
   "execution_count": 86,
   "id": "979995c5",
   "metadata": {},
   "outputs": [],
   "source": [
    "y_south_pred = model_south.predict(X_south_test)\n",
    "y_north_pred = model_north.predict(X_north_test)"
   ]
  },
  {
   "cell_type": "code",
   "execution_count": 96,
   "id": "8c6aad20",
   "metadata": {
    "scrolled": true
   },
   "outputs": [
    {
     "data": {
      "image/png": "[encoded data removed]",
      "text/plain": [
       "<Figure size 576x432 with 1 Axes>"
      ]
     },
     "metadata": {
      "needs_background": "light"
     },
     "output_type": "display_data"
    }
   ],
   "source": [
    "fig, ax = plt.subplots(figsize=(8,6))\n",
    "\n",
    "ax.scatter(X_south_test, y_south_test, label = 'south')\n",
    "ax.scatter(X_north_test, y_north_test, label = 'north')\n",
    "ax.plot(X_south_test, y_south_pred, c='r', label = 'south')\n",
    "ax.plot(X_north_test, y_north_pred, c='b', label = 'north')\n",
    "ax.legend(loc='best');"
   ]
  },
  {
   "cell_type": "code",
   "execution_count": 97,
   "id": "1d474fd8",
   "metadata": {},
   "outputs": [
    {
     "name": "stdout",
     "output_type": "stream",
     "text": [
      "                            OLS Regression Results                            \n",
      "==============================================================================\n",
      "Dep. Variable:               hardness   R-squared:                       0.598\n",
      "Model:                            OLS   Adj. R-squared:                  0.574\n",
      "Method:                 Least Squares   F-statistic:                     25.24\n",
      "Date:                Mon, 30 Aug 2021   Prob (F-statistic):           0.000104\n",
      "Time:                        15:04:22   Log-Likelihood:                -87.006\n",
      "No. Observations:                  19   AIC:                             178.0\n",
      "Df Residuals:                      17   BIC:                             179.9\n",
      "Df Model:                           1                                         \n",
      "Covariance Type:            nonrobust                                         \n",
      "==============================================================================\n",
      "                 coef    std err          t      P>|t|      [0.025      0.975]\n",
      "------------------------------------------------------------------------------\n",
      "const        335.5684     53.030      6.328      0.000     223.684     447.453\n",
      "mortality     -0.1914      0.038     -5.024      0.000      -0.272      -0.111\n",
      "==============================================================================\n",
      "Omnibus:                        0.623   Durbin-Watson:                   2.233\n",
      "Prob(Omnibus):                  0.732   Jarque-Bera (JB):                0.468\n",
      "Skew:                          -0.349   Prob(JB):                        0.792\n",
      "Kurtosis:                       2.680   Cond. No.                     1.29e+04\n",
      "==============================================================================\n",
      "\n",
      "Notes:\n",
      "[1] Standard Errors assume that the covariance matrix of the errors is correctly specified.\n",
      "[2] The condition number is large, 1.29e+04. This might indicate that there are\n",
      "strong multicollinearity or other numerical problems.\n"
     ]
    },
    {
     "name": "stderr",
     "output_type": "stream",
     "text": [
      "C:\\ProgramData\\Anaconda3\\lib\\site-packages\\scipy\\stats\\stats.py:1603: UserWarning: kurtosistest only valid for n>=20 ... continuing anyway, n=19\n",
      "  warnings.warn(\"kurtosistest only valid for n>=20 ... continuing \"\n"
     ]
    }
   ],
   "source": [
    "X_south_const = sm.add_constant(X_south_train)\n",
    "X_south_const.shape\n",
    "\n",
    "model_south = sm.OLS(y_south_train, X_south_const)\n",
    "results_south = model_south.fit()\n",
    "print(results_south.summary())"
   ]
  },
  {
   "cell_type": "raw",
   "id": "7b98a874",
   "metadata": {},
   "source": [
    "Правильно ли я понимаю, что для определения коэффициента эксцесса малова-то данных?"
   ]
  },
  {
   "cell_type": "code",
   "execution_count": 100,
   "id": "93435a3d",
   "metadata": {},
   "outputs": [
    {
     "name": "stdout",
     "output_type": "stream",
     "text": [
      "                            OLS Regression Results                            \n",
      "==============================================================================\n",
      "Dep. Variable:               hardness   R-squared:                       0.200\n",
      "Model:                            OLS   Adj. R-squared:                  0.166\n",
      "Method:                 Least Squares   F-statistic:                     5.993\n",
      "Date:                Mon, 30 Aug 2021   Prob (F-statistic):             0.0221\n",
      "Time:                        15:27:41   Log-Likelihood:                -119.48\n",
      "No. Observations:                  26   AIC:                             243.0\n",
      "Df Residuals:                      24   BIC:                             245.5\n",
      "Df Model:                           1                                         \n",
      "Covariance Type:            nonrobust                                         \n",
      "==============================================================================\n",
      "                 coef    std err          t      P>|t|      [0.025      0.975]\n",
      "------------------------------------------------------------------------------\n",
      "const        183.5329     61.827      2.969      0.007      55.929     311.137\n",
      "mortality     -0.0931      0.038     -2.448      0.022      -0.172      -0.015\n",
      "==============================================================================\n",
      "Omnibus:                        3.395   Durbin-Watson:                   2.010\n",
      "Prob(Omnibus):                  0.183   Jarque-Bera (JB):                2.961\n",
      "Skew:                           0.788   Prob(JB):                        0.228\n",
      "Kurtosis:                       2.498   Cond. No.                     2.06e+04\n",
      "==============================================================================\n",
      "\n",
      "Notes:\n",
      "[1] Standard Errors assume that the covariance matrix of the errors is correctly specified.\n",
      "[2] The condition number is large, 2.06e+04. This might indicate that there are\n",
      "strong multicollinearity or other numerical problems.\n"
     ]
    }
   ],
   "source": [
    "X_north_const = sm.add_constant(X_north_train)\n",
    "X_north_const.shape\n",
    "\n",
    "model_north = sm.OLS(y_north_train, X_north_const)\n",
    "results_north = model_north.fit()\n",
    "print(results_north.summary())"
   ]
  },
  {
   "cell_type": "code",
   "execution_count": 113,
   "id": "8fc8c3d5",
   "metadata": {},
   "outputs": [
    {
     "data": {
      "image/png": "[encoded data removed]",
      "text/plain": [
       "<Figure size 576x432 with 1 Axes>"
      ]
     },
     "metadata": {
      "needs_background": "light"
     },
     "output_type": "display_data"
    }
   ],
   "source": [
    "prstd_s, iv_l_s, iv_u_s = wls_prediction_std(results_south) \n",
    "prstd_n, iv_l_n, iv_u_n = wls_prediction_std(results_north) \n",
    "fig, ax = plt.subplots(figsize=(8,6))\n",
    "\n",
    "ax.plot(X_south_const.iloc[:, 1], y_south_train, 'o', label=\"data south\")\n",
    "ax.plot(X_north_const.iloc[:, 1], y_north_train, 'x', label=\"data north\")\n",
    "ax.plot(X_south_const.iloc[:, 1], results_south.fittedvalues, 'r--.', label=\"OLS south\")\n",
    "ax.plot(X_north_const.iloc[:, 1], results_north.fittedvalues, 'b--.', label=\"OLS north\")\n",
    "ax.plot(X_south_const.iloc[:, 1], iv_u_s, 'g--')\n",
    "ax.plot(X_north_const.iloc[:, 1], iv_u_n, 'g--')\n",
    "ax.plot(X_south_const.iloc[:, 1], iv_l_s, 'g--')\n",
    "ax.plot(X_north_const.iloc[:, 1], iv_l_n, 'g--')\n",
    "ax.legend(loc='best');"
   ]
  },
  {
   "cell_type": "code",
   "execution_count": 119,
   "id": "3d7ced9e",
   "metadata": {},
   "outputs": [
    {
     "data": {
      "image/png": "[encoded data removed]",
      "text/plain": [
       "<Figure size 576x432 with 1 Axes>"
      ]
     },
     "metadata": {
      "needs_background": "light"
     },
     "output_type": "display_data"
    }
   ],
   "source": [
    "fig, ax = plt.subplots(figsize=(8,6))\n",
    "ax.scatter(X_south_const.iloc[:, 1], results_south.resid, label='south')\n",
    "ax.scatter(X_north_const.iloc[:, 1], results_north.resid, label='north')\n",
    "ax.legend(loc='best');\n",
    "plt.show()"
   ]
  },
  {
   "cell_type": "code",
   "execution_count": 139,
   "id": "e56be999",
   "metadata": {},
   "outputs": [
    {
     "data": {
      "image/png": "[encoded data removed]",
      "text/plain": [
       "<Figure size 576x432 with 1 Axes>"
      ]
     },
     "metadata": {
      "needs_background": "light"
     },
     "output_type": "display_data"
    }
   ],
   "source": [
    "fig, ax = plt.subplots(figsize=(8,6))\n",
    "ax.hist(results_south.resid,rwidth = 0.4, alpha = 0.6,  label='south')\n",
    "ax.hist(results_north.resid,rwidth = 0.4,  alpha = 0.6,  label='north')\n",
    "ax.legend(loc='best')\n",
    "plt.show()"
   ]
  },
  {
   "cell_type": "markdown",
   "id": "2ea2419e",
   "metadata": {},
   "source": [
    "Корреляция между жесткостью воды и смертностью сохраняется и отдельно для северных и южных городов.\n",
    "Для северных городов в большей степени чем для южных."
   ]
  }
 ],
 "metadata": {
  "kernelspec": {
   "display_name": "Python 3",
   "language": "python",
   "name": "python3"
  },
  "language_info": {
   "codemirror_mode": {
    "name": "ipython",
    "version": 3
   },
   "file_extension": ".py",
   "mimetype": "text/x-python",
   "name": "python",
   "nbconvert_exporter": "python",
   "pygments_lexer": "ipython3",
   "version": "3.8.8"
  }
 },
 "nbformat": 4,
 "nbformat_minor": 5
}
